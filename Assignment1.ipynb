{
  "nbformat": 4,
  "nbformat_minor": 0,
  "metadata": {
    "colab": {
      "name": "Assignment1.ipynb",
      "provenance": [],
      "collapsed_sections": []
    },
    "kernelspec": {
      "name": "python3",
      "display_name": "Python 3"
    }
  },
  "cells": [
    {
      "cell_type": "code",
      "metadata": {
        "colab": {
          "base_uri": "https://localhost:8080/"
        },
        "id": "wKa4b-eobJ0t",
        "outputId": "249bb27e-3283-4b9a-f7d5-66257c656fc4"
      },
      "source": [
        "list = [1,2,3,5,6,7,8,9,10]\r\n",
        "list"
      ],
      "execution_count": 1,
      "outputs": [
        {
          "output_type": "execute_result",
          "data": {
            "text/plain": [
              "[1, 2, 3, 5, 6, 7, 8, 9, 10]"
            ]
          },
          "metadata": {
            "tags": []
          },
          "execution_count": 1
        }
      ]
    },
    {
      "cell_type": "code",
      "metadata": {
        "colab": {
          "base_uri": "https://localhost:8080/"
        },
        "id": "h-8jkzv0bafQ",
        "outputId": "b06ba870-3a93-46e5-e592-8e9e3e27d9b8"
      },
      "source": [
        "list.append(4)\r\n",
        "list"
      ],
      "execution_count": 6,
      "outputs": [
        {
          "output_type": "execute_result",
          "data": {
            "text/plain": [
              "[1, 2, 3, 5, 6, 7, 8, 9, 10, 11, 11, 11, 1, 4]"
            ]
          },
          "metadata": {
            "tags": []
          },
          "execution_count": 6
        }
      ]
    },
    {
      "cell_type": "code",
      "metadata": {
        "id": "DpLIGZXZbgq5"
      },
      "source": [
        "list.clear()"
      ],
      "execution_count": 7,
      "outputs": []
    },
    {
      "cell_type": "code",
      "metadata": {
        "colab": {
          "base_uri": "https://localhost:8080/"
        },
        "id": "FN_6LM6Pb0FJ",
        "outputId": "d956c83e-e077-4025-f83c-53e31d38eaa2"
      },
      "source": [
        "list"
      ],
      "execution_count": 8,
      "outputs": [
        {
          "output_type": "execute_result",
          "data": {
            "text/plain": [
              "[]"
            ]
          },
          "metadata": {
            "tags": []
          },
          "execution_count": 8
        }
      ]
    },
    {
      "cell_type": "code",
      "metadata": {
        "colab": {
          "base_uri": "https://localhost:8080/"
        },
        "id": "08BvsBwob1Ae",
        "outputId": "a1a84b4c-6c0f-4f38-9e29-9e9b7ce14bd8"
      },
      "source": [
        "list = ['hello','python']\r\n",
        "list"
      ],
      "execution_count": 9,
      "outputs": [
        {
          "output_type": "execute_result",
          "data": {
            "text/plain": [
              "['hello', 'python']"
            ]
          },
          "metadata": {
            "tags": []
          },
          "execution_count": 9
        }
      ]
    },
    {
      "cell_type": "code",
      "metadata": {
        "colab": {
          "base_uri": "https://localhost:8080/"
        },
        "id": "TrRwgd8eb5wt",
        "outputId": "beff80e8-bc68-46d3-d2f8-24864d31b41d"
      },
      "source": [
        "l = []\r\n",
        "l = list.copy()\r\n",
        "l"
      ],
      "execution_count": 13,
      "outputs": [
        {
          "output_type": "execute_result",
          "data": {
            "text/plain": [
              "['hello', 'python']"
            ]
          },
          "metadata": {
            "tags": []
          },
          "execution_count": 13
        }
      ]
    },
    {
      "cell_type": "code",
      "metadata": {
        "colab": {
          "base_uri": "https://localhost:8080/"
        },
        "id": "EHs9XZmOb_kq",
        "outputId": "b0bd1f31-8ec5-410b-b34b-903d1451c767"
      },
      "source": [
        "L = [1,2,3,4,5,1,0,8,7,1]\r\n",
        "L.count(1)"
      ],
      "execution_count": 17,
      "outputs": [
        {
          "output_type": "execute_result",
          "data": {
            "text/plain": [
              "3"
            ]
          },
          "metadata": {
            "tags": []
          },
          "execution_count": 17
        }
      ]
    },
    {
      "cell_type": "code",
      "metadata": {
        "colab": {
          "base_uri": "https://localhost:8080/"
        },
        "id": "epTYdPiocVkp",
        "outputId": "88028974-9b00-4a87-a3f8-3d4f50034261"
      },
      "source": [
        "l.extend(list)\r\n",
        "l"
      ],
      "execution_count": 21,
      "outputs": [
        {
          "output_type": "execute_result",
          "data": {
            "text/plain": [
              "['hello', 'python', 'hello', 'python', 'hello', 'python']"
            ]
          },
          "metadata": {
            "tags": []
          },
          "execution_count": 21
        }
      ]
    },
    {
      "cell_type": "code",
      "metadata": {
        "colab": {
          "base_uri": "https://localhost:8080/"
        },
        "id": "h062B6INctr6",
        "outputId": "a46eb4ca-4f57-450d-ea85-2cba113e7d90"
      },
      "source": [
        "l1 = ['hello','chandni','hello','python']\r\n",
        "l1"
      ],
      "execution_count": 24,
      "outputs": [
        {
          "output_type": "execute_result",
          "data": {
            "text/plain": [
              "['hello', 'chandni', 'hello', 'python']"
            ]
          },
          "metadata": {
            "tags": []
          },
          "execution_count": 24
        }
      ]
    },
    {
      "cell_type": "code",
      "metadata": {
        "colab": {
          "base_uri": "https://localhost:8080/"
        },
        "id": "DNNBHngqdGLS",
        "outputId": "5dd097ff-a843-494f-f04a-613fc92858cf"
      },
      "source": [
        "l1.index('python')"
      ],
      "execution_count": 40,
      "outputs": [
        {
          "output_type": "execute_result",
          "data": {
            "text/plain": [
              "3"
            ]
          },
          "metadata": {
            "tags": []
          },
          "execution_count": 40
        }
      ]
    },
    {
      "cell_type": "code",
      "metadata": {
        "id": "O45kr97IdeBD"
      },
      "source": [
        "l1.clear()"
      ],
      "execution_count": 46,
      "outputs": []
    },
    {
      "cell_type": "code",
      "metadata": {
        "colab": {
          "base_uri": "https://localhost:8080/"
        },
        "id": "5536EveQfarc",
        "outputId": "ede194e3-5de8-4499-d268-8fe0af5a4e53"
      },
      "source": [
        "List = ['Hello','Chandni','Welcome']\r\n",
        "List"
      ],
      "execution_count": 47,
      "outputs": [
        {
          "output_type": "execute_result",
          "data": {
            "text/plain": [
              "['Hello', 'Chandni', 'Welcome']"
            ]
          },
          "metadata": {
            "tags": []
          },
          "execution_count": 47
        }
      ]
    },
    {
      "cell_type": "code",
      "metadata": {
        "id": "hsR7fog2f6bW"
      },
      "source": [
        "List.insert(3,'Python')\r\n"
      ],
      "execution_count": 48,
      "outputs": []
    },
    {
      "cell_type": "code",
      "metadata": {
        "colab": {
          "base_uri": "https://localhost:8080/"
        },
        "id": "wONpiFyWgB1C",
        "outputId": "ac5c68fb-d23d-4ee9-c843-5dfd6f7120ed"
      },
      "source": [
        "List"
      ],
      "execution_count": 49,
      "outputs": [
        {
          "output_type": "execute_result",
          "data": {
            "text/plain": [
              "['Hello', 'Chandni', 'Welcome', 'Python']"
            ]
          },
          "metadata": {
            "tags": []
          },
          "execution_count": 49
        }
      ]
    },
    {
      "cell_type": "code",
      "metadata": {
        "colab": {
          "base_uri": "https://localhost:8080/",
          "height": 35
        },
        "id": "hyoIrkL1gDKG",
        "outputId": "f401bb2c-c8f9-4109-d67f-f77eae59d49d"
      },
      "source": [
        "L = ['chandni','chouhan']\r\n",
        "L.pop(1)"
      ],
      "execution_count": 50,
      "outputs": [
        {
          "output_type": "execute_result",
          "data": {
            "application/vnd.google.colaboratory.intrinsic+json": {
              "type": "string"
            },
            "text/plain": [
              "'chouhan'"
            ]
          },
          "metadata": {
            "tags": []
          },
          "execution_count": 50
        }
      ]
    },
    {
      "cell_type": "code",
      "metadata": {
        "colab": {
          "base_uri": "https://localhost:8080/"
        },
        "id": "u18-AzaOgYTl",
        "outputId": "441752ac-3bd6-4738-89f9-d54d6ec02256"
      },
      "source": [
        "L"
      ],
      "execution_count": 51,
      "outputs": [
        {
          "output_type": "execute_result",
          "data": {
            "text/plain": [
              "['chandni']"
            ]
          },
          "metadata": {
            "tags": []
          },
          "execution_count": 51
        }
      ]
    },
    {
      "cell_type": "code",
      "metadata": {
        "colab": {
          "base_uri": "https://localhost:8080/"
        },
        "id": "ovxTo-XdgZ_U",
        "outputId": "153c25bd-f33a-4e8e-ac37-463a031cfc2c"
      },
      "source": [
        "List.reverse()\r\n",
        "print(List)"
      ],
      "execution_count": 58,
      "outputs": [
        {
          "output_type": "stream",
          "text": [
            "['Python', 'Welcome', 'Chandni', 'Hello']\n"
          ],
          "name": "stdout"
        }
      ]
    },
    {
      "cell_type": "code",
      "metadata": {
        "colab": {
          "base_uri": "https://localhost:8080/"
        },
        "id": "9KSbpxEsgkDZ",
        "outputId": "6cff80ca-84da-41a1-911b-b9e3d8fd3852"
      },
      "source": [
        "List.sort()\r\n",
        "print(List)"
      ],
      "execution_count": 59,
      "outputs": [
        {
          "output_type": "stream",
          "text": [
            "['Chandni', 'Hello', 'Python', 'Welcome']\n"
          ],
          "name": "stdout"
        }
      ]
    },
    {
      "cell_type": "code",
      "metadata": {
        "id": "mzzR9zIDhSGc"
      },
      "source": [
        "List.remove('Welcome')"
      ],
      "execution_count": 62,
      "outputs": []
    },
    {
      "cell_type": "code",
      "metadata": {
        "colab": {
          "base_uri": "https://localhost:8080/"
        },
        "id": "eZt8MngjhXnB",
        "outputId": "9854a391-1025-471b-cf00-97f471e13f9e"
      },
      "source": [
        "List"
      ],
      "execution_count": 63,
      "outputs": [
        {
          "output_type": "execute_result",
          "data": {
            "text/plain": [
              "['Chandni', 'Hello', 'Python']"
            ]
          },
          "metadata": {
            "tags": []
          },
          "execution_count": 63
        }
      ]
    },
    {
      "cell_type": "code",
      "metadata": {
        "id": "iKh1H-QFhg7b"
      },
      "source": [
        ""
      ],
      "execution_count": null,
      "outputs": []
    }
  ]
}