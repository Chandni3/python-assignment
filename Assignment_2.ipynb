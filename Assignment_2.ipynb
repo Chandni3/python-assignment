{
  "nbformat": 4,
  "nbformat_minor": 0,
  "metadata": {
    "colab": {
      "name": "Assignment 2.ipynb",
      "provenance": [],
      "collapsed_sections": [],
      "authorship_tag": "ABX9TyPnAG0m3KvbBkZVfwX4rLXY",
      "include_colab_link": true
    },
    "kernelspec": {
      "name": "python3",
      "display_name": "Python 3"
    }
  },
  "cells": [
    {
      "cell_type": "markdown",
      "metadata": {
        "id": "view-in-github",
        "colab_type": "text"
      },
      "source": [
        "<a href=\"https://colab.research.google.com/github/Chandni3/python-assignment/blob/main/Assignment_2.ipynb\" target=\"_parent\"><img src=\"https://colab.research.google.com/assets/colab-badge.svg\" alt=\"Open In Colab\"/></a>"
      ]
    },
    {
      "cell_type": "code",
      "metadata": {
        "id": "_FbN9dYy9pND",
        "colab": {
          "base_uri": "https://localhost:8080/"
        },
        "outputId": "92bfd061-d383-4f16-fa2d-ca704f19b4a7"
      },
      "source": [
        "altitude = int(input())\r\n",
        "if (altitude == 1000):\r\n",
        "  print(\"safe to land\")\r\n",
        "elif (altitude >=1000 and altitude<=5000):\r\n",
        "  print(\"Bring down to 1000\")\r\n",
        "elif (altitude >= 5000):\r\n",
        "  print(\"Turn Around\")\r\n",
        "else:\r\n",
        " \"passs\""
      ],
      "execution_count": null,
      "outputs": [
        {
          "output_type": "stream",
          "text": [
            "6500\n",
            "Turn Around\n"
          ],
          "name": "stdout"
        }
      ]
    },
    {
      "cell_type": "code",
      "metadata": {
        "id": "PKPUaqtC_dW0"
      },
      "source": [
        " "
      ],
      "execution_count": null,
      "outputs": []
    }
  ]
}