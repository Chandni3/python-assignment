{
  "nbformat": 4,
  "nbformat_minor": 0,
  "metadata": {
    "colab": {
      "name": "Assignment2.ipynb",
      "provenance": [],
      "collapsed_sections": []
    },
    "kernelspec": {
      "name": "python3",
      "display_name": "Python 3"
    }
  },
  "cells": [
    {
      "cell_type": "code",
      "metadata": {
        "colab": {
          "base_uri": "https://localhost:8080/"
        },
        "id": "57BKeAw0imEq",
        "outputId": "ac3db239-5c0e-4c50-ee1c-3528130c1350"
      },
      "source": [
        "Dict = {\"Name\":\"Chandni\",\"Branch\":\"MCA\",\"City\":\"Jaipur\"}\r\n",
        "Dict"
      ],
      "execution_count": 1,
      "outputs": [
        {
          "output_type": "execute_result",
          "data": {
            "text/plain": [
              "{'Branch': 'MCA', 'City': 'Jaipur', 'Name': 'Chandni'}"
            ]
          },
          "metadata": {
            "tags": []
          },
          "execution_count": 1
        }
      ]
    },
    {
      "cell_type": "code",
      "metadata": {
        "colab": {
          "base_uri": "https://localhost:8080/",
          "height": 35
        },
        "id": "0uQC9cjrjDVp",
        "outputId": "07b08825-7c8f-4a65-8b8e-d87f6218ed39"
      },
      "source": [
        "Dict.get(\"Branch\")"
      ],
      "execution_count": 15,
      "outputs": [
        {
          "output_type": "execute_result",
          "data": {
            "application/vnd.google.colaboratory.intrinsic+json": {
              "type": "string"
            },
            "text/plain": [
              "'MCA'"
            ]
          },
          "metadata": {
            "tags": []
          },
          "execution_count": 15
        }
      ]
    },
    {
      "cell_type": "code",
      "metadata": {
        "colab": {
          "base_uri": "https://localhost:8080/"
        },
        "id": "kU2uVqSIjMfG",
        "outputId": "4fa6103a-9d61-4aee-e90c-ceb7d0b18461"
      },
      "source": [
        "dict = Dict.copy()\r\n",
        "dict"
      ],
      "execution_count": 10,
      "outputs": [
        {
          "output_type": "execute_result",
          "data": {
            "text/plain": [
              "{'Branch': 'MCA', 'City': 'Jaipur', 'Name': 'Chandni'}"
            ]
          },
          "metadata": {
            "tags": []
          },
          "execution_count": 10
        }
      ]
    },
    {
      "cell_type": "code",
      "metadata": {
        "colab": {
          "base_uri": "https://localhost:8080/"
        },
        "id": "Ian5UtLRjnLW",
        "outputId": "9359a9e7-13c0-4c61-edc9-6b031b1a84e3"
      },
      "source": [
        "Dict.items()\r\n",
        "\r\n"
      ],
      "execution_count": 11,
      "outputs": [
        {
          "output_type": "execute_result",
          "data": {
            "text/plain": [
              "dict_items([('Name', 'Chandni'), ('Branch', 'MCA'), ('City', 'Jaipur')])"
            ]
          },
          "metadata": {
            "tags": []
          },
          "execution_count": 11
        }
      ]
    },
    {
      "cell_type": "code",
      "metadata": {
        "colab": {
          "base_uri": "https://localhost:8080/"
        },
        "id": "TC8X6BrGjzEs",
        "outputId": "e5ec0b5f-1f63-46cf-de3c-3fd0aadb94ae"
      },
      "source": [
        "Dict.values()"
      ],
      "execution_count": 12,
      "outputs": [
        {
          "output_type": "execute_result",
          "data": {
            "text/plain": [
              "dict_values(['Chandni', 'MCA', 'Jaipur'])"
            ]
          },
          "metadata": {
            "tags": []
          },
          "execution_count": 12
        }
      ]
    },
    {
      "cell_type": "code",
      "metadata": {
        "colab": {
          "base_uri": "https://localhost:8080/",
          "height": 35
        },
        "id": "7Rbt5CKamS7h",
        "outputId": "c3fbe3c4-f862-445a-94c3-9f2a576f2b06"
      },
      "source": [
        "Dict.pop('Name')"
      ],
      "execution_count": 17,
      "outputs": [
        {
          "output_type": "execute_result",
          "data": {
            "application/vnd.google.colaboratory.intrinsic+json": {
              "type": "string"
            },
            "text/plain": [
              "'Chandni'"
            ]
          },
          "metadata": {
            "tags": []
          },
          "execution_count": 17
        }
      ]
    },
    {
      "cell_type": "code",
      "metadata": {
        "colab": {
          "base_uri": "https://localhost:8080/"
        },
        "id": "I2fDuZRRm2ZA",
        "outputId": "d7173f0e-32f5-472b-be1a-83815561699e"
      },
      "source": [
        "Dict1 = {\"City\":\"Banglore\"}\r\n",
        "Dict.update(Dict1)\r\n",
        "print(Dict)"
      ],
      "execution_count": 24,
      "outputs": [
        {
          "output_type": "stream",
          "text": [
            "{'Branch': 'MCA', 'City': 'Banglore'}\n"
          ],
          "name": "stdout"
        }
      ]
    },
    {
      "cell_type": "code",
      "metadata": {
        "colab": {
          "base_uri": "https://localhost:8080/"
        },
        "id": "omWXFqaQnN8l",
        "outputId": "15717f5e-5c9a-42ce-fde6-597332b1be3f"
      },
      "source": [
        "d = {}\r\n",
        "d = Dict.copy()\r\n",
        "print(d)"
      ],
      "execution_count": 27,
      "outputs": [
        {
          "output_type": "stream",
          "text": [
            "{'Branch': 'MCA', 'City': 'Banglore'}\n"
          ],
          "name": "stdout"
        }
      ]
    },
    {
      "cell_type": "code",
      "metadata": {
        "colab": {
          "base_uri": "https://localhost:8080/"
        },
        "id": "2235IL6Yo-yk",
        "outputId": "92c7fd69-8be5-49ad-8db9-a72db66b1284"
      },
      "source": [
        "d.setdefault('Nationality')\r\n",
        "print(d)"
      ],
      "execution_count": 34,
      "outputs": [
        {
          "output_type": "stream",
          "text": [
            "{'Branch': 'MCA', 'City': 'Banglore', 'Nationality:Indian': None, 'Nationality:': None, 'Nationality': None}\n"
          ],
          "name": "stdout"
        }
      ]
    },
    {
      "cell_type": "code",
      "metadata": {
        "colab": {
          "base_uri": "https://localhost:8080/"
        },
        "id": "ymWsmFwxpPYV",
        "outputId": "99519165-0f8f-449b-aafd-5969ba83f797"
      },
      "source": [
        "key = {'name','branch','city'}\r\n",
        "value = {'IT'}\r\n",
        "value = dict.fromkeys(key,value)\r\n",
        "print(value)"
      ],
      "execution_count": 44,
      "outputs": [
        {
          "output_type": "stream",
          "text": [
            "{'branch': {'IT'}, 'name': {'IT'}, 'city': {'IT'}}\n"
          ],
          "name": "stdout"
        }
      ]
    },
    {
      "cell_type": "code",
      "metadata": {
        "colab": {
          "base_uri": "https://localhost:8080/"
        },
        "id": "Ug0HPdieqGfh",
        "outputId": "0f18295d-75f7-4635-e085-9bce6d7b417c"
      },
      "source": [
        "dict.popitem()"
      ],
      "execution_count": 45,
      "outputs": [
        {
          "output_type": "execute_result",
          "data": {
            "text/plain": [
              "('City', 'Jaipur')"
            ]
          },
          "metadata": {
            "tags": []
          },
          "execution_count": 45
        }
      ]
    },
    {
      "cell_type": "code",
      "metadata": {
        "id": "BhyCA3bJr9oI"
      },
      "source": [
        "dict.clear()"
      ],
      "execution_count": 46,
      "outputs": []
    },
    {
      "cell_type": "code",
      "metadata": {
        "colab": {
          "base_uri": "https://localhost:8080/",
          "height": 35
        },
        "id": "Ctw67fXfyYuI",
        "outputId": "72c87002-a992-4c4c-df7e-e21f2202f056"
      },
      "source": [
        "dict = {'a':'b','c':'d'}\r\n",
        "dict.pop('a')"
      ],
      "execution_count": 49,
      "outputs": [
        {
          "output_type": "execute_result",
          "data": {
            "application/vnd.google.colaboratory.intrinsic+json": {
              "type": "string"
            },
            "text/plain": [
              "'b'"
            ]
          },
          "metadata": {
            "tags": []
          },
          "execution_count": 49
        }
      ]
    },
    {
      "cell_type": "code",
      "metadata": {
        "colab": {
          "base_uri": "https://localhost:8080/"
        },
        "id": "Mh6_8hMcyZoa",
        "outputId": "d2f9fc69-b22a-4793-8386-74b877c62279"
      },
      "source": [
        "dict"
      ],
      "execution_count": 50,
      "outputs": [
        {
          "output_type": "execute_result",
          "data": {
            "text/plain": [
              "{'c': 'd'}"
            ]
          },
          "metadata": {
            "tags": []
          },
          "execution_count": 50
        }
      ]
    },
    {
      "cell_type": "code",
      "metadata": {
        "id": "t-XfEiH2y7wq"
      },
      "source": [
        ""
      ],
      "execution_count": null,
      "outputs": []
    }
  ]
}